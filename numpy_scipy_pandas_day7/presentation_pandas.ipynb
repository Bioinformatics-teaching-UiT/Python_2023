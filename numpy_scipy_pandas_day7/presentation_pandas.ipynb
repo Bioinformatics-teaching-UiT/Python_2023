{
 "cells": [
  {
   "cell_type": "markdown",
   "metadata": {
    "toc": true
   },
   "source": [
    "<h1>Table of Contents<span class=\"tocSkip\"></span></h1>\n",
    "<div class=\"toc\"><ul class=\"toc-item\"><li><span><a href=\"#Importing-datasets\" data-toc-modified-id=\"Importing-datasets-1\"><span class=\"toc-item-num\">1&nbsp;&nbsp;</span>Importing datasets</a></span></li><li><span><a href=\"#Viewing-data\" data-toc-modified-id=\"Viewing-data-2\"><span class=\"toc-item-num\">2&nbsp;&nbsp;</span>Viewing data</a></span></li><li><span><a href=\"#Slicing\" data-toc-modified-id=\"Slicing-3\"><span class=\"toc-item-num\">3&nbsp;&nbsp;</span>Slicing</a></span><ul class=\"toc-item\"><li><span><a href=\"#By-the-number:-iloc\" data-toc-modified-id=\"By-the-number:-iloc-3.1\"><span class=\"toc-item-num\">3.1&nbsp;&nbsp;</span>By the number: iloc</a></span></li><li><span><a href=\"#By-the-name:-loc\" data-toc-modified-id=\"By-the-name:-loc-3.2\"><span class=\"toc-item-num\">3.2&nbsp;&nbsp;</span>By the name: loc</a></span></li><li><span><a href=\"#Slice-a-whole-column\" data-toc-modified-id=\"Slice-a-whole-column-3.3\"><span class=\"toc-item-num\">3.3&nbsp;&nbsp;</span>Slice a whole column</a></span></li><li><span><a href=\"#By-complex-logic\" data-toc-modified-id=\"By-complex-logic-3.4\"><span class=\"toc-item-num\">3.4&nbsp;&nbsp;</span>By complex logic</a></span></li></ul></li><li><span><a href=\"#Common-operations\" data-toc-modified-id=\"Common-operations-4\"><span class=\"toc-item-num\">4&nbsp;&nbsp;</span>Common operations</a></span><ul class=\"toc-item\"><li><span><a href=\"#Assigning-new-columns\" data-toc-modified-id=\"Assigning-new-columns-4.1\"><span class=\"toc-item-num\">4.1&nbsp;&nbsp;</span>Assigning new columns</a></span></li><li><span><a href=\"#Transformations\" data-toc-modified-id=\"Transformations-4.2\"><span class=\"toc-item-num\">4.2&nbsp;&nbsp;</span>Transformations</a></span><ul class=\"toc-item\"><li><span><a href=\"#Simple-arithmetic\" data-toc-modified-id=\"Simple-arithmetic-4.2.1\"><span class=\"toc-item-num\">4.2.1&nbsp;&nbsp;</span>Simple arithmetic</a></span></li><li><span><a href=\"#Lambda-functions\" data-toc-modified-id=\"Lambda-functions-4.2.2\"><span class=\"toc-item-num\">4.2.2&nbsp;&nbsp;</span>Lambda functions</a></span></li></ul></li><li><span><a href=\"#Dropping-columns\" data-toc-modified-id=\"Dropping-columns-4.3\"><span class=\"toc-item-num\">4.3&nbsp;&nbsp;</span>Dropping columns</a></span></li><li><span><a href=\"#Setting-a-different-index\" data-toc-modified-id=\"Setting-a-different-index-4.4\"><span class=\"toc-item-num\">4.4&nbsp;&nbsp;</span>Setting a different index</a></span></li><li><span><a href=\"#Assigning-single-values\" data-toc-modified-id=\"Assigning-single-values-4.5\"><span class=\"toc-item-num\">4.5&nbsp;&nbsp;</span>Assigning single values</a></span></li></ul></li><li><span><a href=\"#Aggregate-functions\" data-toc-modified-id=\"Aggregate-functions-5\"><span class=\"toc-item-num\">5&nbsp;&nbsp;</span>Aggregate functions</a></span><ul class=\"toc-item\"><li><span><a href=\"#Grouping\" data-toc-modified-id=\"Grouping-5.1\"><span class=\"toc-item-num\">5.1&nbsp;&nbsp;</span>Grouping</a></span></li><li><span><a href=\"#Pivoting\" data-toc-modified-id=\"Pivoting-5.2\"><span class=\"toc-item-num\">5.2&nbsp;&nbsp;</span>Pivoting</a></span></li></ul></li><li><span><a href=\"#Pandas-plotting\" data-toc-modified-id=\"Pandas-plotting-6\"><span class=\"toc-item-num\">6&nbsp;&nbsp;</span>Pandas plotting</a></span><ul class=\"toc-item\"><li><span><a href=\"#Simple-plots\" data-toc-modified-id=\"Simple-plots-6.1\"><span class=\"toc-item-num\">6.1&nbsp;&nbsp;</span>Simple plots</a></span></li><li><span><a href=\"#Scatter-matrix\" data-toc-modified-id=\"Scatter-matrix-6.2\"><span class=\"toc-item-num\">6.2&nbsp;&nbsp;</span>Scatter matrix</a></span></li></ul></li><li><span><a href=\"#Pandas-statistics\" data-toc-modified-id=\"Pandas-statistics-7\"><span class=\"toc-item-num\">7&nbsp;&nbsp;</span>Pandas statistics</a></span></li></ul></div>"
   ]
  },
  {
   "cell_type": "code",
   "execution_count": null,
   "metadata": {
    "ExecuteTime": {
     "end_time": "2020-04-10T08:42:46.149674Z",
     "start_time": "2020-04-10T08:42:45.827375Z"
    },
    "run_control": {
     "marked": false
    }
   },
   "outputs": [],
   "source": [
    "import pandas as pd\n",
    "from pathlib import Path"
   ]
  },
  {
   "cell_type": "markdown",
   "metadata": {},
   "source": [
    "# Importing datasets"
   ]
  },
  {
   "cell_type": "code",
   "execution_count": null,
   "metadata": {
    "ExecuteTime": {
     "end_time": "2020-04-10T08:42:46.170731Z",
     "start_time": "2020-04-10T08:42:46.151137Z"
    }
   },
   "outputs": [],
   "source": [
    "iris_data = pd.read_csv(Path(\"../datasets/iris.csv\"), index_col=0)\n",
    "tips_data = pd.read_csv(Path(\"../datasets/tips.csv\"), index_col=0)\n",
    "gene_mapping = pd.read_csv(Path(\"../datasets/gene_mapping.tsv\"), sep=\"\\t\", index_col=0)"
   ]
  },
  {
   "cell_type": "markdown",
   "metadata": {},
   "source": [
    "# Viewing data"
   ]
  },
  {
   "cell_type": "code",
   "execution_count": null,
   "metadata": {
    "ExecuteTime": {
     "end_time": "2020-04-10T08:42:46.185575Z",
     "start_time": "2020-04-10T08:42:46.172307Z"
    }
   },
   "outputs": [],
   "source": [
    "gene_mapping.head()"
   ]
  },
  {
   "cell_type": "code",
   "execution_count": null,
   "metadata": {
    "ExecuteTime": {
     "end_time": "2020-04-10T08:42:46.199302Z",
     "start_time": "2020-04-10T08:42:46.187251Z"
    }
   },
   "outputs": [],
   "source": [
    "tips_data.head()"
   ]
  },
  {
   "cell_type": "code",
   "execution_count": null,
   "metadata": {
    "ExecuteTime": {
     "end_time": "2020-04-10T08:42:46.213304Z",
     "start_time": "2020-04-10T08:42:46.200546Z"
    }
   },
   "outputs": [],
   "source": [
    "iris_data.head()"
   ]
  },
  {
   "cell_type": "markdown",
   "metadata": {},
   "source": [
    "# Slicing"
   ]
  },
  {
   "cell_type": "markdown",
   "metadata": {},
   "source": [
    "## By the number: iloc"
   ]
  },
  {
   "cell_type": "code",
   "execution_count": null,
   "metadata": {
    "ExecuteTime": {
     "end_time": "2020-04-10T08:42:46.225868Z",
     "start_time": "2020-04-10T08:42:46.214752Z"
    }
   },
   "outputs": [],
   "source": [
    "gene_mapping.iloc[10, :]  # this is called a Series (basically a 1D-DataFrame)"
   ]
  },
  {
   "cell_type": "code",
   "execution_count": null,
   "metadata": {
    "ExecuteTime": {
     "end_time": "2020-04-10T08:42:46.239302Z",
     "start_time": "2020-04-10T08:42:46.227287Z"
    }
   },
   "outputs": [],
   "source": [
    "gene_mapping.iloc[:, 2]"
   ]
  },
  {
   "cell_type": "code",
   "execution_count": null,
   "metadata": {
    "ExecuteTime": {
     "end_time": "2020-04-10T08:42:46.255556Z",
     "start_time": "2020-04-10T08:42:46.242205Z"
    }
   },
   "outputs": [],
   "source": [
    "gene_mapping.iloc[10, 2]"
   ]
  },
  {
   "cell_type": "code",
   "execution_count": null,
   "metadata": {
    "ExecuteTime": {
     "end_time": "2020-04-10T08:42:46.273592Z",
     "start_time": "2020-04-10T08:42:46.258541Z"
    }
   },
   "outputs": [],
   "source": [
    "gene_mapping.iloc[5:10, :]"
   ]
  },
  {
   "cell_type": "code",
   "execution_count": null,
   "metadata": {
    "ExecuteTime": {
     "end_time": "2020-04-10T08:42:46.298315Z",
     "start_time": "2020-04-10T08:42:46.275244Z"
    }
   },
   "outputs": [],
   "source": [
    "gene_mapping.iloc[5:10, 2:5]"
   ]
  },
  {
   "cell_type": "code",
   "execution_count": null,
   "metadata": {
    "ExecuteTime": {
     "end_time": "2020-04-10T08:42:46.313177Z",
     "start_time": "2020-04-10T08:42:46.301328Z"
    }
   },
   "outputs": [],
   "source": [
    "gene_mapping.iloc[[1, 3, 7], [2, 3, 5]]"
   ]
  },
  {
   "cell_type": "markdown",
   "metadata": {},
   "source": [
    "## By the name: loc"
   ]
  },
  {
   "cell_type": "code",
   "execution_count": null,
   "metadata": {
    "ExecuteTime": {
     "end_time": "2020-04-10T08:42:46.325843Z",
     "start_time": "2020-04-10T08:42:46.314662Z"
    }
   },
   "outputs": [],
   "source": [
    "gene_mapping.loc[\"SLC25A1\", :]"
   ]
  },
  {
   "cell_type": "code",
   "execution_count": null,
   "metadata": {
    "ExecuteTime": {
     "end_time": "2020-04-10T08:42:46.339394Z",
     "start_time": "2020-04-10T08:42:46.327297Z"
    }
   },
   "outputs": [],
   "source": [
    "gene_mapping.loc[\"SLC25A1\", \"gene_number\"]"
   ]
  },
  {
   "cell_type": "code",
   "execution_count": null,
   "metadata": {
    "ExecuteTime": {
     "end_time": "2020-04-10T08:42:46.361302Z",
     "start_time": "2020-04-10T08:42:46.340922Z"
    }
   },
   "outputs": [],
   "source": [
    "gene_mapping.loc[[\"AOC1\", \"AOC2\", \"AOC3\"], :]"
   ]
  },
  {
   "cell_type": "markdown",
   "metadata": {},
   "source": [
    "## Slice a whole column"
   ]
  },
  {
   "cell_type": "code",
   "execution_count": null,
   "metadata": {
    "ExecuteTime": {
     "end_time": "2020-04-10T08:42:46.376278Z",
     "start_time": "2020-04-10T08:42:46.362586Z"
    },
    "scrolled": true
   },
   "outputs": [],
   "source": [
    "gene_mapping['gene_number']"
   ]
  },
  {
   "cell_type": "code",
   "execution_count": null,
   "metadata": {
    "ExecuteTime": {
     "end_time": "2020-04-10T08:42:46.394959Z",
     "start_time": "2020-04-10T08:42:46.377978Z"
    }
   },
   "outputs": [],
   "source": [
    "gene_mapping[['gene_number', 'entrez_id']]"
   ]
  },
  {
   "cell_type": "markdown",
   "metadata": {},
   "source": [
    "## By complex logic"
   ]
  },
  {
   "cell_type": "code",
   "execution_count": null,
   "metadata": {
    "ExecuteTime": {
     "end_time": "2020-04-10T08:42:46.411570Z",
     "start_time": "2020-04-10T08:42:46.396629Z"
    }
   },
   "outputs": [],
   "source": [
    "tips_data.head()"
   ]
  },
  {
   "cell_type": "code",
   "execution_count": null,
   "metadata": {
    "ExecuteTime": {
     "end_time": "2020-04-10T08:42:46.424228Z",
     "start_time": "2020-04-10T08:42:46.413384Z"
    }
   },
   "outputs": [],
   "source": [
    "tips_data[\"total_bill\"]"
   ]
  },
  {
   "cell_type": "code",
   "execution_count": null,
   "metadata": {
    "ExecuteTime": {
     "end_time": "2020-04-10T08:42:46.438056Z",
     "start_time": "2020-04-10T08:42:46.425992Z"
    }
   },
   "outputs": [],
   "source": [
    "tips_data[\"total_bill\"] > 25"
   ]
  },
  {
   "cell_type": "code",
   "execution_count": null,
   "metadata": {
    "ExecuteTime": {
     "end_time": "2020-04-10T08:42:46.459657Z",
     "start_time": "2020-04-10T08:42:46.439547Z"
    }
   },
   "outputs": [],
   "source": [
    "a = tips_data[\"total_bill\"] > 40\n",
    "b = tips_data[\"sex\"] == \"Female\"\n",
    "tips_data[a & b]"
   ]
  },
  {
   "cell_type": "code",
   "execution_count": null,
   "metadata": {
    "ExecuteTime": {
     "end_time": "2020-04-10T08:42:46.484459Z",
     "start_time": "2020-04-10T08:42:46.461930Z"
    }
   },
   "outputs": [],
   "source": [
    "tips_data[a | b]"
   ]
  },
  {
   "cell_type": "markdown",
   "metadata": {},
   "source": [
    "and &\n",
    "\n",
    "or |"
   ]
  },
  {
   "cell_type": "markdown",
   "metadata": {},
   "source": [
    "# Common operations"
   ]
  },
  {
   "cell_type": "markdown",
   "metadata": {},
   "source": [
    "## Assigning new columns"
   ]
  },
  {
   "cell_type": "code",
   "execution_count": null,
   "metadata": {
    "ExecuteTime": {
     "end_time": "2020-04-10T08:42:46.494336Z",
     "start_time": "2020-04-10T08:42:46.485994Z"
    }
   },
   "outputs": [],
   "source": [
    "tips_data[\"log2_bill\"] = None"
   ]
  },
  {
   "cell_type": "code",
   "execution_count": null,
   "metadata": {
    "ExecuteTime": {
     "end_time": "2020-04-10T08:42:46.517268Z",
     "start_time": "2020-04-10T08:42:46.498352Z"
    }
   },
   "outputs": [],
   "source": [
    "tips_data.head()"
   ]
  },
  {
   "cell_type": "markdown",
   "metadata": {},
   "source": [
    "## Transformations"
   ]
  },
  {
   "cell_type": "markdown",
   "metadata": {},
   "source": [
    "### Simple arithmetic"
   ]
  },
  {
   "cell_type": "code",
   "execution_count": null,
   "metadata": {
    "ExecuteTime": {
     "end_time": "2020-04-10T08:42:46.529428Z",
     "start_time": "2020-04-10T08:42:46.519642Z"
    }
   },
   "outputs": [],
   "source": [
    "tips_data[\"tip_percentage\"] = (tips_data[\"tip\"] / tips_data[\"total_bill\"]) * 100"
   ]
  },
  {
   "cell_type": "code",
   "execution_count": null,
   "metadata": {
    "ExecuteTime": {
     "end_time": "2020-04-10T08:42:46.546041Z",
     "start_time": "2020-04-10T08:42:46.531022Z"
    }
   },
   "outputs": [],
   "source": [
    "tips_data.head(2)"
   ]
  },
  {
   "cell_type": "markdown",
   "metadata": {},
   "source": [
    "### Lambda functions"
   ]
  },
  {
   "cell_type": "code",
   "execution_count": null,
   "metadata": {
    "ExecuteTime": {
     "end_time": "2020-04-10T08:42:46.558269Z",
     "start_time": "2020-04-10T08:42:46.548057Z"
    }
   },
   "outputs": [],
   "source": [
    "tips_data[\"total_bill\"].apply(lambda x: x ** 2)"
   ]
  },
  {
   "cell_type": "code",
   "execution_count": null,
   "metadata": {
    "ExecuteTime": {
     "end_time": "2020-04-10T08:42:46.568740Z",
     "start_time": "2020-04-10T08:42:46.559806Z"
    }
   },
   "outputs": [],
   "source": [
    "square = lambda x: x ** 2"
   ]
  },
  {
   "cell_type": "code",
   "execution_count": null,
   "metadata": {
    "ExecuteTime": {
     "end_time": "2020-04-10T08:42:46.583535Z",
     "start_time": "2020-04-10T08:42:46.570149Z"
    }
   },
   "outputs": [],
   "source": [
    "type(square)"
   ]
  },
  {
   "cell_type": "code",
   "execution_count": null,
   "metadata": {
    "ExecuteTime": {
     "end_time": "2020-04-10T08:42:46.598588Z",
     "start_time": "2020-04-10T08:42:46.585423Z"
    }
   },
   "outputs": [],
   "source": [
    "square(4)"
   ]
  },
  {
   "cell_type": "code",
   "execution_count": null,
   "metadata": {
    "ExecuteTime": {
     "end_time": "2020-04-10T08:42:46.621124Z",
     "start_time": "2020-04-10T08:42:46.599665Z"
    }
   },
   "outputs": [],
   "source": [
    "from math import log\n",
    "\n",
    "tips_data[\"log2_bill\"] = tips_data[\"total_bill\"].apply(lambda x: log(x, 2))\n",
    "tips_data.head(2)"
   ]
  },
  {
   "cell_type": "markdown",
   "metadata": {},
   "source": [
    "## Dropping columns"
   ]
  },
  {
   "cell_type": "code",
   "execution_count": null,
   "metadata": {
    "ExecuteTime": {
     "end_time": "2020-04-10T08:42:46.650038Z",
     "start_time": "2020-04-10T08:42:46.622770Z"
    }
   },
   "outputs": [],
   "source": [
    "tips_data.drop([\"Unnamed: 0.1\"], axis=1)"
   ]
  },
  {
   "cell_type": "code",
   "execution_count": null,
   "metadata": {
    "ExecuteTime": {
     "end_time": "2020-04-10T08:42:46.665175Z",
     "start_time": "2020-04-10T08:42:46.655356Z"
    }
   },
   "outputs": [],
   "source": [
    "tips_data.head(2)"
   ]
  },
  {
   "cell_type": "code",
   "execution_count": null,
   "metadata": {
    "ExecuteTime": {
     "end_time": "2020-04-10T08:42:46.677973Z",
     "start_time": "2020-04-10T08:42:46.666289Z"
    }
   },
   "outputs": [],
   "source": [
    "tips_data.drop([\"Unnamed: 0.1\"], axis=1, inplace=True)"
   ]
  },
  {
   "cell_type": "code",
   "execution_count": null,
   "metadata": {
    "ExecuteTime": {
     "end_time": "2020-04-10T08:42:46.695030Z",
     "start_time": "2020-04-10T08:42:46.679248Z"
    }
   },
   "outputs": [],
   "source": [
    "tips_data.head(2)"
   ]
  },
  {
   "cell_type": "markdown",
   "metadata": {},
   "source": [
    " ## Setting a different index"
   ]
  },
  {
   "cell_type": "code",
   "execution_count": null,
   "metadata": {
    "ExecuteTime": {
     "end_time": "2020-04-10T08:42:46.711253Z",
     "start_time": "2020-04-10T08:42:46.696501Z"
    }
   },
   "outputs": [],
   "source": [
    "gene_mapping.head(2)"
   ]
  },
  {
   "cell_type": "code",
   "execution_count": null,
   "metadata": {
    "ExecuteTime": {
     "end_time": "2020-04-10T08:42:46.729159Z",
     "start_time": "2020-04-10T08:42:46.712724Z"
    }
   },
   "outputs": [],
   "source": [
    "gene_mapping.set_index('gene_number').head(2) \n",
    "# careful, the old index is lost"
   ]
  },
  {
   "cell_type": "code",
   "execution_count": null,
   "metadata": {
    "ExecuteTime": {
     "end_time": "2020-04-10T08:42:46.740323Z",
     "start_time": "2020-04-10T08:42:46.730399Z"
    }
   },
   "outputs": [],
   "source": [
    "gene_mapping.reset_index(inplace=True)\n",
    "gene_mapping.head(2)"
   ]
  },
  {
   "cell_type": "code",
   "execution_count": null,
   "metadata": {
    "ExecuteTime": {
     "end_time": "2020-04-10T08:42:46.760699Z",
     "start_time": "2020-04-10T08:42:46.741430Z"
    }
   },
   "outputs": [],
   "source": [
    "gene_mapping.set_index('gene_number', inplace=True)\n",
    "gene_mapping.head(2)"
   ]
  },
  {
   "cell_type": "markdown",
   "metadata": {},
   "source": [
    "## Assigning single values"
   ]
  },
  {
   "cell_type": "code",
   "execution_count": null,
   "metadata": {
    "ExecuteTime": {
     "end_time": "2020-04-10T08:42:46.773825Z",
     "start_time": "2020-04-10T08:42:46.761866Z"
    }
   },
   "outputs": [],
   "source": [
    "gene_mapping.loc[8639.1, 'symbol'] = 'AOC3'"
   ]
  },
  {
   "cell_type": "markdown",
   "metadata": {},
   "source": [
    "# Aggregate functions"
   ]
  },
  {
   "cell_type": "code",
   "execution_count": null,
   "metadata": {
    "ExecuteTime": {
     "end_time": "2020-04-10T08:42:46.788872Z",
     "start_time": "2020-04-10T08:42:46.775293Z"
    }
   },
   "outputs": [],
   "source": [
    "tips_data.max(axis=0)"
   ]
  },
  {
   "cell_type": "code",
   "execution_count": null,
   "metadata": {
    "ExecuteTime": {
     "end_time": "2020-04-10T08:42:46.811101Z",
     "start_time": "2020-04-10T08:42:46.790310Z"
    }
   },
   "outputs": [],
   "source": [
    "tips_data.median(axis=0)"
   ]
  },
  {
   "cell_type": "code",
   "execution_count": null,
   "metadata": {
    "ExecuteTime": {
     "end_time": "2020-04-10T08:42:46.823546Z",
     "start_time": "2020-04-10T08:42:46.814078Z"
    }
   },
   "outputs": [],
   "source": [
    "tips_data[\"size\"].unique()"
   ]
  },
  {
   "cell_type": "code",
   "execution_count": null,
   "metadata": {
    "ExecuteTime": {
     "end_time": "2020-04-10T08:42:46.834165Z",
     "start_time": "2020-04-10T08:42:46.825421Z"
    }
   },
   "outputs": [],
   "source": [
    "tips_data.sex.nunique()"
   ]
  },
  {
   "cell_type": "markdown",
   "metadata": {},
   "source": [
    "## Grouping"
   ]
  },
  {
   "cell_type": "code",
   "execution_count": null,
   "metadata": {
    "ExecuteTime": {
     "end_time": "2020-04-10T08:42:46.850017Z",
     "start_time": "2020-04-10T08:42:46.836218Z"
    }
   },
   "outputs": [],
   "source": [
    "tips_grouped = tips_data.groupby('sex')\n",
    "print(tips_grouped)"
   ]
  },
  {
   "cell_type": "code",
   "execution_count": null,
   "metadata": {
    "ExecuteTime": {
     "end_time": "2020-04-10T08:42:46.880298Z",
     "start_time": "2020-04-10T08:42:46.851269Z"
    },
    "scrolled": true
   },
   "outputs": [],
   "source": [
    "for group in tips_grouped:\n",
    "    print(group)"
   ]
  },
  {
   "cell_type": "code",
   "execution_count": null,
   "metadata": {
    "ExecuteTime": {
     "end_time": "2020-04-10T08:42:46.891535Z",
     "start_time": "2020-04-10T08:42:46.881706Z"
    }
   },
   "outputs": [],
   "source": [
    "tips_grouped.tip_percentage.median()"
   ]
  },
  {
   "cell_type": "code",
   "execution_count": null,
   "metadata": {
    "ExecuteTime": {
     "end_time": "2020-04-10T08:42:46.903829Z",
     "start_time": "2020-04-10T08:42:46.892706Z"
    }
   },
   "outputs": [],
   "source": [
    "tips_grouped.total_bill.median()"
   ]
  },
  {
   "cell_type": "code",
   "execution_count": null,
   "metadata": {
    "ExecuteTime": {
     "end_time": "2020-04-10T08:42:46.917113Z",
     "start_time": "2020-04-10T08:42:46.905142Z"
    }
   },
   "outputs": [],
   "source": [
    "tips_grouped.total_bill.std()"
   ]
  },
  {
   "cell_type": "code",
   "execution_count": null,
   "metadata": {
    "ExecuteTime": {
     "end_time": "2020-04-10T08:42:46.933979Z",
     "start_time": "2020-04-10T08:42:46.918379Z"
    }
   },
   "outputs": [],
   "source": [
    "tips_grouped.mean()"
   ]
  },
  {
   "cell_type": "code",
   "execution_count": null,
   "metadata": {
    "ExecuteTime": {
     "end_time": "2020-04-10T08:42:46.956971Z",
     "start_time": "2020-04-10T08:42:46.935407Z"
    }
   },
   "outputs": [],
   "source": [
    "tips_data.groupby(['sex', 'smoker']).median()"
   ]
  },
  {
   "cell_type": "code",
   "execution_count": null,
   "metadata": {
    "ExecuteTime": {
     "end_time": "2020-04-10T08:42:46.965739Z",
     "start_time": "2020-04-10T08:42:46.958087Z"
    }
   },
   "outputs": [],
   "source": [
    "tips_groups = tips_data.groupby(['sex', 'smoker']).tip.count()\n",
    "print(tips_groups)"
   ]
  },
  {
   "cell_type": "markdown",
   "metadata": {},
   "source": [
    "## Pivoting"
   ]
  },
  {
   "cell_type": "code",
   "execution_count": null,
   "metadata": {
    "ExecuteTime": {
     "end_time": "2020-04-10T08:42:46.986571Z",
     "start_time": "2020-04-10T08:42:46.966900Z"
    }
   },
   "outputs": [],
   "source": [
    "display(tips_groups)\n",
    "tips_groups = tips_groups.reset_index()\n",
    "display(tips_groups)"
   ]
  },
  {
   "cell_type": "code",
   "execution_count": null,
   "metadata": {
    "ExecuteTime": {
     "end_time": "2020-04-10T08:42:47.000570Z",
     "start_time": "2020-04-10T08:42:46.987747Z"
    }
   },
   "outputs": [],
   "source": [
    "tips_groups.pivot(\n",
    "    columns=\"smoker\",\n",
    "    index=\"sex\",\n",
    "    values=\"tip\"\n",
    ")"
   ]
  },
  {
   "cell_type": "markdown",
   "metadata": {},
   "source": [
    "# Pandas plotting"
   ]
  },
  {
   "cell_type": "code",
   "execution_count": null,
   "metadata": {
    "ExecuteTime": {
     "end_time": "2020-04-10T08:42:47.018072Z",
     "start_time": "2020-04-10T08:42:47.001859Z"
    }
   },
   "outputs": [],
   "source": [
    "tips_data.head(5)"
   ]
  },
  {
   "cell_type": "markdown",
   "metadata": {},
   "source": [
    "## Simple plots"
   ]
  },
  {
   "cell_type": "code",
   "execution_count": null,
   "metadata": {
    "ExecuteTime": {
     "end_time": "2020-04-10T08:42:47.029178Z",
     "start_time": "2020-04-10T08:42:47.019239Z"
    }
   },
   "outputs": [],
   "source": [
    "tips_plotting = tips_data.loc[:, ['total_bill', 'tip_percentage', 'size', 'time']]"
   ]
  },
  {
   "cell_type": "code",
   "execution_count": null,
   "metadata": {
    "ExecuteTime": {
     "end_time": "2020-04-10T08:42:47.322344Z",
     "start_time": "2020-04-10T08:42:47.030413Z"
    }
   },
   "outputs": [],
   "source": [
    "tips_plotting['total_bill'].plot.hist()"
   ]
  },
  {
   "cell_type": "code",
   "execution_count": null,
   "metadata": {
    "ExecuteTime": {
     "end_time": "2020-04-10T08:42:47.450501Z",
     "start_time": "2020-04-10T08:42:47.323771Z"
    }
   },
   "outputs": [],
   "source": [
    "tips_plotting.plot.scatter(x='total_bill', y='tip_percentage')"
   ]
  },
  {
   "cell_type": "markdown",
   "metadata": {},
   "source": [
    "## Scatter matrix"
   ]
  },
  {
   "cell_type": "code",
   "execution_count": null,
   "metadata": {
    "ExecuteTime": {
     "end_time": "2020-04-10T08:42:47.461810Z",
     "start_time": "2020-04-10T08:42:47.452074Z"
    }
   },
   "outputs": [],
   "source": [
    "iris_data.head(2)"
   ]
  },
  {
   "cell_type": "code",
   "execution_count": null,
   "metadata": {
    "ExecuteTime": {
     "end_time": "2020-04-10T08:42:48.742432Z",
     "start_time": "2020-04-10T08:42:47.463842Z"
    }
   },
   "outputs": [],
   "source": [
    "import warnings\n",
    "with warnings.catch_warnings():\n",
    "    warnings.simplefilter(\"ignore\")    \n",
    "    pd.plotting.scatter_matrix(iris_data, alpha=0.2, figsize=(10, 10), diagonal='kde')"
   ]
  },
  {
   "cell_type": "markdown",
   "metadata": {},
   "source": [
    "# Pandas statistics"
   ]
  },
  {
   "cell_type": "code",
   "execution_count": null,
   "metadata": {
    "ExecuteTime": {
     "end_time": "2020-04-10T08:42:48.775371Z",
     "start_time": "2020-04-10T08:42:48.743948Z"
    }
   },
   "outputs": [],
   "source": [
    "iris_data.describe()"
   ]
  },
  {
   "cell_type": "code",
   "execution_count": null,
   "metadata": {
    "ExecuteTime": {
     "end_time": "2020-04-10T08:42:48.791813Z",
     "start_time": "2020-04-10T08:42:48.777046Z"
    }
   },
   "outputs": [],
   "source": [
    "iris_data.mean(axis=0)"
   ]
  },
  {
   "cell_type": "code",
   "execution_count": null,
   "metadata": {
    "ExecuteTime": {
     "end_time": "2020-04-10T08:42:48.808801Z",
     "start_time": "2020-04-10T08:42:48.793317Z"
    }
   },
   "outputs": [],
   "source": [
    "iris_data.std(axis=0)"
   ]
  },
  {
   "cell_type": "code",
   "execution_count": null,
   "metadata": {
    "ExecuteTime": {
     "end_time": "2020-04-10T08:42:48.822355Z",
     "start_time": "2020-04-10T08:42:48.810219Z"
    }
   },
   "outputs": [],
   "source": [
    "iris_data['sepal_length'].mean()"
   ]
  },
  {
   "cell_type": "code",
   "execution_count": null,
   "metadata": {
    "ExecuteTime": {
     "end_time": "2020-04-10T08:42:49.041104Z",
     "start_time": "2020-04-10T08:42:48.824277Z"
    }
   },
   "outputs": [],
   "source": [
    "normalized_sepal_length = (iris_data['sepal_length'] - iris_data['sepal_length'].mean()) / iris_data['sepal_length'].std()\n",
    "normalized_sepal_length.plot.hist(bins=20)"
   ]
  },
  {
   "cell_type": "code",
   "execution_count": null,
   "metadata": {
    "ExecuteTime": {
     "end_time": "2020-04-10T08:43:36.947479Z",
     "start_time": "2020-04-10T08:43:36.926319Z"
    }
   },
   "outputs": [],
   "source": [
    "iris_data.corr(method='kendall') # offers kendall's tau, spearman rank, and pearson correlation, plus callable"
   ]
  }
 ],
 "metadata": {
  "kernelspec": {
   "display_name": "Python 3",
   "language": "python",
   "name": "python3"
  },
  "language_info": {
   "codemirror_mode": {
    "name": "ipython",
    "version": 3
   },
   "file_extension": ".py",
   "mimetype": "text/x-python",
   "name": "python",
   "nbconvert_exporter": "python",
   "pygments_lexer": "ipython3",
   "version": "3.7.6"
  },
  "toc": {
   "base_numbering": 1,
   "nav_menu": {},
   "number_sections": true,
   "sideBar": true,
   "skip_h1_title": false,
   "title_cell": "Table of Contents",
   "title_sidebar": "Contents",
   "toc_cell": true,
   "toc_position": {},
   "toc_section_display": true,
   "toc_window_display": false
  },
  "varInspector": {
   "cols": {
    "lenName": 16,
    "lenType": 16,
    "lenVar": 40
   },
   "kernels_config": {
    "python": {
     "delete_cmd_postfix": "",
     "delete_cmd_prefix": "del ",
     "library": "var_list.py",
     "varRefreshCmd": "print(var_dic_list())"
    },
    "r": {
     "delete_cmd_postfix": ") ",
     "delete_cmd_prefix": "rm(",
     "library": "var_list.r",
     "varRefreshCmd": "cat(var_dic_list()) "
    }
   },
   "types_to_exclude": [
    "module",
    "function",
    "builtin_function_or_method",
    "instance",
    "_Feature"
   ],
   "window_display": false
  }
 },
 "nbformat": 4,
 "nbformat_minor": 2
}
